{
 "cells": [
  {
   "cell_type": "code",
   "execution_count": 1,
   "metadata": {},
   "outputs": [],
   "source": [
    "import pandas as pd\n",
    "import example_board"
   ]
  },
  {
   "cell_type": "code",
   "execution_count": 2,
   "metadata": {},
   "outputs": [
    {
     "data": {
      "text/plain": [
       "[[1, 2, 3, 4, 3, 9, 1, 2, 6],\n",
       " [4, 5, 6, 8, 7, 5, 3, 4, 9],\n",
       " [7, 8, 9, 6, 2, 1, 5, 7, 8],\n",
       " [8, 5, 7, 9, 4, 3, 2, 6, 1],\n",
       " [2, 6, 1, 7, 5, 8, 9, 3, 4],\n",
       " [9, 3, 4, 1, 6, 2, 7, 8, 5],\n",
       " [5, 7, 8, 3, 9, 4, 6, 1, 2],\n",
       " [1, 2, 1, 5, 8, 7, 4, 9, 3],\n",
       " [3, 4, 9, 2, 1, 6, 8, 5, 7]]"
      ]
     },
     "execution_count": 2,
     "metadata": {},
     "output_type": "execute_result"
    }
   ],
   "source": [
    "inc = example_board.incorrect_board\n",
    "inc"
   ]
  },
  {
   "cell_type": "code",
   "execution_count": 70,
   "metadata": {},
   "outputs": [
    {
     "name": "stdout",
     "output_type": "stream",
     "text": [
      "'3' appeared more than once in row 1.\n",
      "False\n"
     ]
    }
   ],
   "source": [
    "def validate_starting_board(board):\n",
    "\n",
    "    # Validate row\n",
    "    for row in range(len(board)):\n",
    "        tracker = []\n",
    "        for num in board[row]:\n",
    "            if num in tracker:\n",
    "                print(f\"'{num}' appeared more than once in row {row+1}.\")\n",
    "                return False\n",
    "            else:\n",
    "                tracker.append(num)\n",
    "\n",
    "    # Validate column\n",
    "    for col in range(len(board[0])):\n",
    "        tracker = []\n",
    "\n",
    "        for row in range(len(board)):\n",
    "            num = board[row][col]\n",
    "\n",
    "            if num in tracker and num != 0:\n",
    "                print(f\"'{num}' appeared more than once in column {col+1}.\")\n",
    "                return False\n",
    "            else:\n",
    "                tracker.append(num)\n",
    "\n",
    "    # Validate box\n",
    "    box_count = len(inc) // 3\n",
    "\n",
    "    # Get a coordinate (x,y) for top-left number in each sub box\n",
    "    for x in range(box_count):\n",
    "        for y in range(box_count):\n",
    "\n",
    "            # Narrow down the rows contained in each box\n",
    "            rows = inc[x*3: x*3 + 3]\n",
    "\n",
    "            # Iterate through those rows from starting y co-ord to final y co-ord\n",
    "            val_store = []\n",
    "            for row in rows:\n",
    "                vals = row[y*3: y*3 + 3]\n",
    "                val_store.append(vals)\n",
    "\n",
    "            # Flatten the resulting list of lists\n",
    "            box_values = []\n",
    "            for val_list in val_store:\n",
    "                box_values.extend(val_list)\n",
    "\n",
    "            # Check each box, represented by a single list\n",
    "            tracker = []\n",
    "\n",
    "            for val in box_values:\n",
    "                if val in tracker:\n",
    "                    print(f\"'{val}' appeared more than once in box {(x, y)}.\")\n",
    "                    return False\n",
    "                else:\n",
    "                    tracker.append(val)\n",
    "\n",
    "    # If all checks pass\n",
    "    return True\n",
    "\n",
    "print(validate_starting_board(inc))"
   ]
  },
  {
   "cell_type": "code",
   "execution_count": 34,
   "metadata": {},
   "outputs": [
    {
     "data": {
      "text/plain": [
       "[[1, 2, 3, 4, 3, 9, 1, 2, 6],\n",
       " [4, 5, 6, 8, 7, 5, 3, 4, 9],\n",
       " [7, 8, 9, 6, 2, 1, 5, 7, 8],\n",
       " [8, 5, 7, 9, 4, 3, 2, 6, 1],\n",
       " [2, 6, 1, 7, 5, 8, 9, 3, 4],\n",
       " [9, 3, 4, 1, 6, 2, 7, 8, 5],\n",
       " [5, 7, 8, 3, 9, 4, 6, 1, 2],\n",
       " [1, 2, 1, 5, 8, 7, 4, 9, 3],\n",
       " [3, 4, 9, 2, 1, 6, 8, 5, 7]]"
      ]
     },
     "execution_count": 34,
     "metadata": {},
     "output_type": "execute_result"
    }
   ],
   "source": [
    "inc"
   ]
  },
  {
   "cell_type": "code",
   "execution_count": 59,
   "metadata": {},
   "outputs": [
    {
     "name": "stdout",
     "output_type": "stream",
     "text": [
      "test_x = 0\n",
      "test_y = 0\n",
      "[1, 2, 3, 4, 5, 6, 7, 8, 9]\n"
     ]
    }
   ],
   "source": [
    "box_pos = (0, 0)\n",
    "test_x = test_pos[0]\n",
    "test_y = test_pos[1]\n",
    "print(f'test_x = {test_x}')\n",
    "print(f'test_y = {test_y}')\n",
    "\n",
    "rows = inc[test_x*3: test_x*3 + 3]\n",
    "\n",
    "val_store = []\n",
    "\n",
    "for row in rows:\n",
    "    vals = row[test_y*3: test_y*3 + 3]\n",
    "    val_store.append(vals)\n",
    "\n",
    "flat_val_store = []\n",
    "for val_list in val_store:\n",
    "    flat_val_store.extend(val_list)\n",
    "\n",
    "print(flat_val_store)\n"
   ]
  },
  {
   "cell_type": "code",
   "execution_count": 57,
   "metadata": {},
   "outputs": [
    {
     "data": {
      "text/plain": [
       "[6, 1, 2, 4, 9, 3, 8, 5, 7]"
      ]
     },
     "execution_count": 57,
     "metadata": {},
     "output_type": "execute_result"
    }
   ],
   "source": [
    "flat_val_store"
   ]
  },
  {
   "cell_type": "code",
   "execution_count": 53,
   "metadata": {},
   "outputs": [
    {
     "data": {
      "text/plain": [
       "[[6, 1, 2], [4, 9, 3], [8, 5, 7]]"
      ]
     },
     "execution_count": 53,
     "metadata": {},
     "output_type": "execute_result"
    }
   ],
   "source": [
    "val_store"
   ]
  },
  {
   "cell_type": "code",
   "execution_count": 64,
   "metadata": {},
   "outputs": [
    {
     "name": "stdout",
     "output_type": "stream",
     "text": [
      "[1, 2, 3, 4, 5, 6, 7, 8, 9]\n",
      "[4, 3, 9, 8, 7, 5, 6, 2, 1]\n",
      "[1, 2, 6, 3, 4, 9, 5, 7, 8]\n",
      "[8, 5, 7, 2, 6, 1, 9, 3, 4]\n",
      "[9, 4, 3, 7, 5, 8, 1, 6, 2]\n",
      "[2, 6, 1, 9, 3, 4, 7, 8, 5]\n",
      "[5, 7, 8, 1, 2, 1, 3, 4, 9]\n",
      "[3, 9, 4, 5, 8, 7, 2, 1, 6]\n",
      "[6, 1, 2, 4, 9, 3, 8, 5, 7]\n"
     ]
    }
   ],
   "source": [
    "inc = example_board.incorrect_board\n",
    "\n",
    "box_count = len(inc) // 3\n",
    "\n",
    "for x in range(box_count):\n",
    "    for y in range(box_count):\n",
    "        # print(x, y)\n",
    "        \n",
    "        # box_x = box_pos[0]\n",
    "        # box_y = box_pos[1]\n",
    "\n",
    "        rows = inc[x*3: x*3 + 3]\n",
    "\n",
    "        val_store = []\n",
    "        for row in rows:\n",
    "            vals = row[y*3: y*3 + 3]\n",
    "            val_store.append(vals)\n",
    "\n",
    "        flat_val_store = []\n",
    "        for val_list in val_store:\n",
    "            flat_val_store.extend(val_list)\n",
    "\n",
    "        print(flat_val_store)\n",
    "\n",
    "        "
   ]
  },
  {
   "cell_type": "code",
   "execution_count": 62,
   "metadata": {},
   "outputs": [
    {
     "data": {
      "text/plain": [
       "[[1, 2, 3, 4, 3, 9, 1, 2, 6],\n",
       " [4, 5, 6, 8, 7, 5, 3, 4, 9],\n",
       " [7, 8, 9, 6, 2, 1, 5, 7, 8],\n",
       " [8, 5, 7, 9, 4, 3, 2, 6, 1],\n",
       " [2, 6, 1, 7, 5, 8, 9, 3, 4],\n",
       " [9, 3, 4, 1, 6, 2, 7, 8, 5],\n",
       " [5, 7, 8, 3, 9, 4, 6, 1, 2],\n",
       " [1, 2, 1, 5, 8, 7, 4, 9, 3],\n",
       " [3, 4, 9, 2, 1, 6, 8, 5, 7]]"
      ]
     },
     "execution_count": 62,
     "metadata": {},
     "output_type": "execute_result"
    }
   ],
   "source": [
    "inc"
   ]
  },
  {
   "cell_type": "code",
   "execution_count": null,
   "metadata": {},
   "outputs": [],
   "source": [
    "df"
   ]
  },
  {
   "cell_type": "code",
   "execution_count": null,
   "metadata": {},
   "outputs": [],
   "source": [
    "list_df = df.values.tolist()"
   ]
  },
  {
   "cell_type": "code",
   "execution_count": null,
   "metadata": {},
   "outputs": [],
   "source": [
    "list_df"
   ]
  },
  {
   "cell_type": "code",
   "execution_count": null,
   "metadata": {},
   "outputs": [],
   "source": [
    "[['' for i in range(9)] for j in range(9)]"
   ]
  },
  {
   "cell_type": "code",
   "execution_count": null,
   "metadata": {},
   "outputs": [],
   "source": [
    "import pandas as pd\n",
    "\n",
    "# Create a DataFrame\n",
    "data = {'0': [1, 2, 3],\n",
    "        '1': [4, 5, 6]}\n",
    "df = pd.DataFrame(data)"
   ]
  },
  {
   "cell_type": "code",
   "execution_count": null,
   "metadata": {},
   "outputs": [],
   "source": [
    "df"
   ]
  },
  {
   "cell_type": "code",
   "execution_count": null,
   "metadata": {},
   "outputs": [],
   "source": [
    "# Dictionary to update values for specific rows\n",
    "update_dict_rows = {1: {'0': 50, '1': 60}}\n",
    "\n",
    "# Update DataFrame using the dictionary\n",
    "for idx, values in update_dict_rows.items():\n",
    "    df.loc[idx] = values\n",
    "\n",
    "print(df)"
   ]
  },
  {
   "cell_type": "code",
   "execution_count": null,
   "metadata": {},
   "outputs": [],
   "source": [
    "ex_df"
   ]
  },
  {
   "cell_type": "code",
   "execution_count": null,
   "metadata": {},
   "outputs": [],
   "source": [
    "ex_df = pd.DataFrame(example_board.board)\n",
    "# display(ex_df)\n",
    "\n",
    "# Dictionary to update values for specific rows\n",
    "update_dict_rows = {1: {0: 50,\n",
    "                        # 1: 60,\n",
    "                        # 2: 70,\n",
    "                        # 3: 76,\n",
    "                        # 4: 80,\n",
    "                        # 5: 95,\n",
    "                        # 6: 88,\n",
    "                        # 7: 90,\n",
    "                        8: 95}}\n",
    "\n",
    "# Update DataFrame using the dictionary\n",
    "for row in update_dict_rows.keys():\n",
    "    print(row)\n",
    "\n",
    "    for col, val in update_dict_rows[row].items():\n",
    "        print(col, val)\n",
    "\n",
    "        ex_df.loc[row][col] = val\n",
    "\n",
    "# print(ex_df)"
   ]
  },
  {
   "cell_type": "code",
   "execution_count": null,
   "metadata": {},
   "outputs": [],
   "source": [
    "ex_df"
   ]
  },
  {
   "cell_type": "code",
   "execution_count": null,
   "metadata": {},
   "outputs": [],
   "source": [
    "grid = pd.read_pickle(\"./dummy.pkl\")  "
   ]
  },
  {
   "cell_type": "code",
   "execution_count": null,
   "metadata": {},
   "outputs": [],
   "source": [
    "grid"
   ]
  },
  {
   "cell_type": "code",
   "execution_count": null,
   "metadata": {},
   "outputs": [],
   "source": [
    "grid.loc[1, 0] = '2' "
   ]
  },
  {
   "cell_type": "code",
   "execution_count": null,
   "metadata": {},
   "outputs": [],
   "source": [
    "grid"
   ]
  }
 ],
 "metadata": {
  "kernelspec": {
   "display_name": "Python 3",
   "language": "python",
   "name": "python3"
  },
  "language_info": {
   "codemirror_mode": {
    "name": "ipython",
    "version": 3
   },
   "file_extension": ".py",
   "mimetype": "text/x-python",
   "name": "python",
   "nbconvert_exporter": "python",
   "pygments_lexer": "ipython3",
   "version": "3.11.5"
  }
 },
 "nbformat": 4,
 "nbformat_minor": 2
}
